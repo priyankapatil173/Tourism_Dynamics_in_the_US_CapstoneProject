{
 "cells": [
  {
   "cell_type": "code",
   "execution_count": 174,
   "id": "64fe107e-f6c7-4dd5-889d-17b602b446b2",
   "metadata": {},
   "outputs": [],
   "source": [
    "import pandas as pd"
   ]
  },
  {
   "cell_type": "code",
   "execution_count": 175,
   "id": "613acc3f-a4d8-4304-adc2-3610cd4e6560",
   "metadata": {},
   "outputs": [],
   "source": [
    "files = ['../Data/EmploymentDirectVsIndirect/Employment_directVsIndirect2018.csv', \n",
    "         '../Data/EmploymentDirectVsIndirect/Employment_directVsIndirect2019.csv', \n",
    "         '../Data/EmploymentDirectVsIndirect/Employment_directVsIndirect2020.csv', \n",
    "         '../Data/EmploymentDirectVsIndirect/Employment_directVsIndirect2021.csv', \n",
    "         '../Data/EmploymentDirectVsIndirect/Employment_directVsIndirect2022.csv', \n",
    "         '../Data/EmploymentDirectVsIndirect/Employment_directVsIndirect2023.csv']"
   ]
  },
  {
   "cell_type": "code",
   "execution_count": 176,
   "id": "12e52122-9fe9-4fa9-90fc-515acd352e5d",
   "metadata": {},
   "outputs": [],
   "source": [
    "dfs = []\n",
    "for file in files:\n",
    "    df = pd.read_csv(file)\n",
    "    year = int(file.split('Employment_directVsIndirect')[1].split('.csv')[0])\n",
    "    df['Year']= year\n",
    "    dfs.append(df)"
   ]
  },
  {
   "cell_type": "code",
   "execution_count": 93,
   "id": "f21107c7-bfbc-4070-ae0c-c0598363101c",
   "metadata": {},
   "outputs": [],
   "source": [
    "employment_merged_df = pd.concat(dfs, ignore_index=True)"
   ]
  },
  {
   "cell_type": "code",
   "execution_count": 177,
   "id": "418e34a8-ee5b-4aa1-a6dc-fe15ba641b09",
   "metadata": {},
   "outputs": [],
   "source": [
    "employment_merged_df.to_csv('../employmentdirectindirect.csv', index=False)"
   ]
  },
  {
   "cell_type": "code",
   "execution_count": 178,
   "id": "bf66bf30-a572-43a4-a553-d715b1b9874c",
   "metadata": {},
   "outputs": [],
   "source": [
    "employment_merged_df=employment_merged_df.rename(columns={'Direct tourism employment':'Direct tourism employment(in thousands)','Total tourism-related employment':'Total tourism-related employment(in thousands)','Indirect tourism employment':'Indirect tourism employment(in thousands)'})"
   ]
  },
  {
   "cell_type": "code",
   "execution_count": 179,
   "id": "92e54ca6-138b-4284-8368-ab233ff00e22",
   "metadata": {},
   "outputs": [
    {
     "data": {
      "text/html": [
       "<div>\n",
       "<style scoped>\n",
       "    .dataframe tbody tr th:only-of-type {\n",
       "        vertical-align: middle;\n",
       "    }\n",
       "\n",
       "    .dataframe tbody tr th {\n",
       "        vertical-align: top;\n",
       "    }\n",
       "\n",
       "    .dataframe thead th {\n",
       "        text-align: right;\n",
       "    }\n",
       "</style>\n",
       "<table border=\"1\" class=\"dataframe\">\n",
       "  <thead>\n",
       "    <tr style=\"text-align: right;\">\n",
       "      <th></th>\n",
       "      <th>Industry</th>\n",
       "      <th>Direct tourism employment(in thousands)</th>\n",
       "      <th>Total industry employment multiplier</th>\n",
       "      <th>Total tourism-related employment(in thousands)</th>\n",
       "      <th>Year</th>\n",
       "      <th>Indirect tourism employment(in thousands)</th>\n",
       "    </tr>\n",
       "  </thead>\n",
       "  <tbody>\n",
       "    <tr>\n",
       "      <th>0</th>\n",
       "      <td>Traveler accommodations</td>\n",
       "      <td>1555</td>\n",
       "      <td>1.42</td>\n",
       "      <td>2211</td>\n",
       "      <td>2018</td>\n",
       "      <td>656</td>\n",
       "    </tr>\n",
       "    <tr>\n",
       "      <th>1</th>\n",
       "      <td>Vacation home rentals</td>\n",
       "      <td>12</td>\n",
       "      <td>1.58</td>\n",
       "      <td>18</td>\n",
       "      <td>2018</td>\n",
       "      <td>6</td>\n",
       "    </tr>\n",
       "    <tr>\n",
       "      <th>2</th>\n",
       "      <td>Food services and drinking places</td>\n",
       "      <td>1835</td>\n",
       "      <td>1.18</td>\n",
       "      <td>2169</td>\n",
       "      <td>2018</td>\n",
       "      <td>334</td>\n",
       "    </tr>\n",
       "    <tr>\n",
       "      <th>3</th>\n",
       "      <td>Air transportation services</td>\n",
       "      <td>556</td>\n",
       "      <td>2.54</td>\n",
       "      <td>1413</td>\n",
       "      <td>2018</td>\n",
       "      <td>857</td>\n",
       "    </tr>\n",
       "    <tr>\n",
       "      <th>4</th>\n",
       "      <td>Rail transportation services</td>\n",
       "      <td>8</td>\n",
       "      <td>2.06</td>\n",
       "      <td>17</td>\n",
       "      <td>2018</td>\n",
       "      <td>9</td>\n",
       "    </tr>\n",
       "  </tbody>\n",
       "</table>\n",
       "</div>"
      ],
      "text/plain": [
       "                            Industry  Direct tourism employment(in thousands)  \\\n",
       "0            Traveler accommodations                                     1555   \n",
       "1              Vacation home rentals                                       12   \n",
       "2  Food services and drinking places                                     1835   \n",
       "3        Air transportation services                                      556   \n",
       "4       Rail transportation services                                        8   \n",
       "\n",
       "   Total industry employment multiplier  \\\n",
       "0                                  1.42   \n",
       "1                                  1.58   \n",
       "2                                  1.18   \n",
       "3                                  2.54   \n",
       "4                                  2.06   \n",
       "\n",
       "   Total tourism-related employment(in thousands)  Year  \\\n",
       "0                                            2211  2018   \n",
       "1                                              18  2018   \n",
       "2                                            2169  2018   \n",
       "3                                            1413  2018   \n",
       "4                                              17  2018   \n",
       "\n",
       "   Indirect tourism employment(in thousands)  \n",
       "0                                        656  \n",
       "1                                          6  \n",
       "2                                        334  \n",
       "3                                        857  \n",
       "4                                          9  "
      ]
     },
     "execution_count": 179,
     "metadata": {},
     "output_type": "execute_result"
    }
   ],
   "source": [
    "employment_merged_df.head()"
   ]
  },
  {
   "cell_type": "code",
   "execution_count": 180,
   "id": "951a956e-a8a6-461f-aa84-3a7376cc8d2e",
   "metadata": {},
   "outputs": [],
   "source": [
    "employment_merged_df.to_csv('employmentdirectindirect.csv')"
   ]
  },
  {
   "cell_type": "markdown",
   "id": "2e52a7da-1c69-4b6f-8817-dcffd948307b",
   "metadata": {},
   "source": [
    "Convert into numeric  "
   ]
  },
  {
   "cell_type": "code",
   "execution_count": 181,
   "id": "6a610d2f-9385-4738-a6fa-67594f046f1a",
   "metadata": {},
   "outputs": [],
   "source": [
    "employment_merged_df['Direct tourism employment(in thousands)'] = pd.to_numeric(employment_merged_df['Direct tourism employment(in thousands)'].astype(str).str.replace(',', ''), errors='coerce')\n",
    "employment_merged_df['Total tourism-related employment(in thousands)'] = pd.to_numeric(employment_merged_df['Total tourism-related employment(in thousands)'].astype(str).str.replace(',', ''), errors='coerce')"
   ]
  },
  {
   "cell_type": "markdown",
   "id": "d384cda4-e001-4dc8-bd1f-c0fa2a2e3cae",
   "metadata": {},
   "source": [
    "Calculate indirect employment"
   ]
  },
  {
   "cell_type": "code",
   "execution_count": 182,
   "id": "191fd037-eac8-4432-9973-291367113925",
   "metadata": {},
   "outputs": [],
   "source": [
    "employment_merged_df['Indirect tourism employment(in thousands)'] = (employment_merged_df['Total tourism-related employment(in thousands)'] - employment_merged_df['Direct tourism employment(in thousands)'])"
   ]
  },
  {
   "cell_type": "markdown",
   "id": "91bb7350-f1bd-47d1-9b56-b2d548e02dc6",
   "metadata": {},
   "source": [
    "employment_merged_df.rename(columns={'Direct tourism employment':'Direct tourism employment(in thousands)','Total tourism-related employment':'Total tourism-related employment(in thousands)','Indirect tourism employment':'Indirect tourism employment(in thousands)'})"
   ]
  },
  {
   "cell_type": "markdown",
   "id": "2aecc79f-59ec-4896-a6f9-22ca75600224",
   "metadata": {},
   "source": [
    "Dataframe of 2018"
   ]
  },
  {
   "cell_type": "code",
   "execution_count": 183,
   "id": "8c4d9d9c-df2f-45f7-abe9-905a1ab5c860",
   "metadata": {},
   "outputs": [],
   "source": [
    "data_2018 = employment_merged_df[employment_merged_df['Year'] == 2018]"
   ]
  },
  {
   "cell_type": "code",
   "execution_count": 184,
   "id": "86f70919-394a-41b0-9ffb-e48a331df59a",
   "metadata": {},
   "outputs": [
    {
     "data": {
      "text/html": [
       "<div>\n",
       "<style scoped>\n",
       "    .dataframe tbody tr th:only-of-type {\n",
       "        vertical-align: middle;\n",
       "    }\n",
       "\n",
       "    .dataframe tbody tr th {\n",
       "        vertical-align: top;\n",
       "    }\n",
       "\n",
       "    .dataframe thead th {\n",
       "        text-align: right;\n",
       "    }\n",
       "</style>\n",
       "<table border=\"1\" class=\"dataframe\">\n",
       "  <thead>\n",
       "    <tr style=\"text-align: right;\">\n",
       "      <th></th>\n",
       "      <th>Direct tourism employment(in thousands)</th>\n",
       "      <th>Indirect tourism employment(in thousands)</th>\n",
       "      <th>Total tourism-related employment(in thousands)</th>\n",
       "    </tr>\n",
       "    <tr>\n",
       "      <th>Industry</th>\n",
       "      <th></th>\n",
       "      <th></th>\n",
       "      <th></th>\n",
       "    </tr>\n",
       "  </thead>\n",
       "  <tbody>\n",
       "    <tr>\n",
       "      <th>Air transportation services</th>\n",
       "      <td>556</td>\n",
       "      <td>857</td>\n",
       "      <td>1413</td>\n",
       "    </tr>\n",
       "    <tr>\n",
       "      <th>All other industries</th>\n",
       "      <td>97</td>\n",
       "      <td>75</td>\n",
       "      <td>172</td>\n",
       "    </tr>\n",
       "    <tr>\n",
       "      <th>All other recreation and entertainment</th>\n",
       "      <td>59</td>\n",
       "      <td>12</td>\n",
       "      <td>71</td>\n",
       "    </tr>\n",
       "    <tr>\n",
       "      <th>Automotive equipment rental and leasing</th>\n",
       "      <td>96</td>\n",
       "      <td>92</td>\n",
       "      <td>188</td>\n",
       "    </tr>\n",
       "    <tr>\n",
       "      <th>Automotive repair services</th>\n",
       "      <td>49</td>\n",
       "      <td>14</td>\n",
       "      <td>63</td>\n",
       "    </tr>\n",
       "  </tbody>\n",
       "</table>\n",
       "</div>"
      ],
      "text/plain": [
       "                                         Direct tourism employment(in thousands)  \\\n",
       "Industry                                                                           \n",
       "Air transportation services                                                  556   \n",
       "All other industries                                                          97   \n",
       "All other recreation and entertainment                                        59   \n",
       "Automotive equipment rental and leasing                                       96   \n",
       "Automotive repair services                                                    49   \n",
       "\n",
       "                                         Indirect tourism employment(in thousands)  \\\n",
       "Industry                                                                             \n",
       "Air transportation services                                                    857   \n",
       "All other industries                                                            75   \n",
       "All other recreation and entertainment                                          12   \n",
       "Automotive equipment rental and leasing                                         92   \n",
       "Automotive repair services                                                      14   \n",
       "\n",
       "                                         Total tourism-related employment(in thousands)  \n",
       "Industry                                                                                 \n",
       "Air transportation services                                                        1413  \n",
       "All other industries                                                                172  \n",
       "All other recreation and entertainment                                               71  \n",
       "Automotive equipment rental and leasing                                             188  \n",
       "Automotive repair services                                                           63  "
      ]
     },
     "execution_count": 184,
     "metadata": {},
     "output_type": "execute_result"
    }
   ],
   "source": [
    "totals_2018 = data_2018.groupby('Industry')[['Direct tourism employment(in thousands)','Indirect tourism employment(in thousands)','Total tourism-related employment(in thousands)']].sum()\n",
    "totals_2018.head()"
   ]
  },
  {
   "cell_type": "markdown",
   "id": "0ceae798-7263-4144-b2c9-509a6ebf0ad2",
   "metadata": {},
   "source": [
    "Total Employment(2018)"
   ]
  },
  {
   "cell_type": "code",
   "execution_count": 185,
   "id": "a890c90f-1653-4009-a00a-613315cf2cdd",
   "metadata": {},
   "outputs": [
    {
     "data": {
      "text/plain": [
       "Direct tourism employment(in thousands)           6191\n",
       "Indirect tourism employment(in thousands)         3380\n",
       "Total tourism-related employment(in thousands)    9571\n",
       "dtype: int64"
      ]
     },
     "execution_count": 185,
     "metadata": {},
     "output_type": "execute_result"
    }
   ],
   "source": [
    "total_2018 = data_2018[['Direct tourism employment(in thousands)',  'Indirect tourism employment(in thousands)', 'Total tourism-related employment(in thousands)']].sum()\n",
    "total_2018"
   ]
  },
  {
   "cell_type": "markdown",
   "id": "fac6985e-7c38-4695-b96a-48949b2785fe",
   "metadata": {},
   "source": [
    "Total Employment(2019)"
   ]
  },
  {
   "cell_type": "code",
   "execution_count": 186,
   "id": "1099fc46-23be-444e-9dca-5069ff78a36b",
   "metadata": {},
   "outputs": [
    {
     "data": {
      "text/plain": [
       "Direct tourism employment(in thousands)           6392\n",
       "Indirect tourism employment(in thousands)         3497\n",
       "Total tourism-related employment(in thousands)    9889\n",
       "dtype: int64"
      ]
     },
     "execution_count": 186,
     "metadata": {},
     "output_type": "execute_result"
    }
   ],
   "source": [
    "data_2019 = employment_merged_df[employment_merged_df['Year'] == 2019]\n",
    "totals_2019 = data_2019.groupby('Industry')[['Direct tourism employment(in thousands)','Indirect tourism employment(in thousands)','Total tourism-related employment(in thousands)']].sum()\n",
    "total_2019= data_2019[['Direct tourism employment(in thousands)',  'Indirect tourism employment(in thousands)', 'Total tourism-related employment(in thousands)']].sum()\n",
    "total_2019"
   ]
  },
  {
   "cell_type": "markdown",
   "id": "fd72e3d8-1814-4e42-91ff-0ffe3ec3c87e",
   "metadata": {},
   "source": [
    "Total Employment(2020)"
   ]
  },
  {
   "cell_type": "code",
   "execution_count": 187,
   "id": "5663b86e-cd58-4ddc-9cec-1616e5d2058d",
   "metadata": {},
   "outputs": [
    {
     "data": {
      "text/plain": [
       "Direct tourism employment(in thousands)           3676\n",
       "Indirect tourism employment(in thousands)         2180\n",
       "Total tourism-related employment(in thousands)    5856\n",
       "dtype: int64"
      ]
     },
     "execution_count": 187,
     "metadata": {},
     "output_type": "execute_result"
    }
   ],
   "source": [
    "data_2020 = employment_merged_df[employment_merged_df['Year'] == 2020]\n",
    "totals_2020 = data_2020.groupby('Industry')[['Direct tourism employment(in thousands)','Indirect tourism employment(in thousands)','Total tourism-related employment(in thousands)']].sum()\n",
    "total_2020= data_2020[['Direct tourism employment(in thousands)',  'Indirect tourism employment(in thousands)', 'Total tourism-related employment(in thousands)']].sum()\n",
    "total_2020"
   ]
  },
  {
   "cell_type": "markdown",
   "id": "53ec0d6f-bc52-4235-b2fb-a796f791d333",
   "metadata": {},
   "source": [
    "Total Employment(2021)"
   ]
  },
  {
   "cell_type": "code",
   "execution_count": 188,
   "id": "bd997317-8344-479c-b277-6bc1bcb2833e",
   "metadata": {},
   "outputs": [
    {
     "data": {
      "text/plain": [
       "Direct tourism employment(in thousands)           5106\n",
       "Indirect tourism employment(in thousands)         2760\n",
       "Total tourism-related employment(in thousands)    7866\n",
       "dtype: int64"
      ]
     },
     "execution_count": 188,
     "metadata": {},
     "output_type": "execute_result"
    }
   ],
   "source": [
    "data_2021 = employment_merged_df[employment_merged_df['Year'] == 2021]\n",
    "totals_2021 = data_2021.groupby('Industry')[['Direct tourism employment(in thousands)','Indirect tourism employment(in thousands)','Total tourism-related employment(in thousands)']].sum()\n",
    "total_2021= data_2021[['Direct tourism employment(in thousands)',  'Indirect tourism employment(in thousands)', 'Total tourism-related employment(in thousands)']].sum()\n",
    "total_2021"
   ]
  },
  {
   "cell_type": "markdown",
   "id": "e0ab5d20-41d4-4123-9657-208a91351605",
   "metadata": {},
   "source": [
    "Total Employment(2022)"
   ]
  },
  {
   "cell_type": "code",
   "execution_count": 189,
   "id": "30886069-6d90-4691-aa7e-2eb55a57883f",
   "metadata": {},
   "outputs": [
    {
     "data": {
      "text/plain": [
       "Direct tourism employment(in thousands)           5840\n",
       "Indirect tourism employment(in thousands)         3237\n",
       "Total tourism-related employment(in thousands)    9077\n",
       "dtype: int64"
      ]
     },
     "execution_count": 189,
     "metadata": {},
     "output_type": "execute_result"
    }
   ],
   "source": [
    "data_2022 = employment_merged_df[employment_merged_df['Year'] == 2022]\n",
    "totals_2022 = data_2022.groupby('Industry')[['Direct tourism employment(in thousands)','Indirect tourism employment(in thousands)','Total tourism-related employment(in thousands)']].sum()\n",
    "total_2022= data_2022[['Direct tourism employment(in thousands)',  'Indirect tourism employment(in thousands)', 'Total tourism-related employment(in thousands)']].sum()\n",
    "total_2022"
   ]
  },
  {
   "cell_type": "markdown",
   "id": "d3d875b7-c130-4a7c-8d4e-95c409bc6cba",
   "metadata": {},
   "source": [
    "Total Employment(2023)"
   ]
  },
  {
   "cell_type": "code",
   "execution_count": 190,
   "id": "565df05d-e138-426a-8c81-ee2f68f9f920",
   "metadata": {},
   "outputs": [
    {
     "data": {
      "text/plain": [
       "Direct tourism employment(in thousands)            6453\n",
       "Indirect tourism employment(in thousands)          3547\n",
       "Total tourism-related employment(in thousands)    10000\n",
       "dtype: int64"
      ]
     },
     "execution_count": 190,
     "metadata": {},
     "output_type": "execute_result"
    }
   ],
   "source": [
    "data_2023 = employment_merged_df[employment_merged_df['Year'] == 2023]\n",
    "totals_2023 = data_2023.groupby('Industry')[['Direct tourism employment(in thousands)','Indirect tourism employment(in thousands)','Total tourism-related employment(in thousands)']].sum()\n",
    "total_2023= data_2023[['Direct tourism employment(in thousands)',  'Indirect tourism employment(in thousands)', 'Total tourism-related employment(in thousands)']].sum()\n",
    "total_2023"
   ]
  },
  {
   "cell_type": "markdown",
   "id": "e365d116-4466-459a-9589-7bb4e0cb8b15",
   "metadata": {},
   "source": [
    "Direct employment(2018)"
   ]
  },
  {
   "cell_type": "code",
   "execution_count": 191,
   "id": "dd001653-a56b-4d08-a492-f73b1e7ddbe2",
   "metadata": {},
   "outputs": [],
   "source": [
    "industry_employment_2018 = data_2018[['Industry','Direct tourism employment(in thousands)']]"
   ]
  },
  {
   "cell_type": "code",
   "execution_count": 192,
   "id": "158b77d9-6924-4210-bfac-fc4f9f6c9ccf",
   "metadata": {},
   "outputs": [
    {
     "data": {
      "text/html": [
       "<div>\n",
       "<style scoped>\n",
       "    .dataframe tbody tr th:only-of-type {\n",
       "        vertical-align: middle;\n",
       "    }\n",
       "\n",
       "    .dataframe tbody tr th {\n",
       "        vertical-align: top;\n",
       "    }\n",
       "\n",
       "    .dataframe thead th {\n",
       "        text-align: right;\n",
       "    }\n",
       "</style>\n",
       "<table border=\"1\" class=\"dataframe\">\n",
       "  <thead>\n",
       "    <tr style=\"text-align: right;\">\n",
       "      <th></th>\n",
       "      <th>Industry</th>\n",
       "      <th>Direct tourism employment(in thousands)</th>\n",
       "    </tr>\n",
       "  </thead>\n",
       "  <tbody>\n",
       "    <tr>\n",
       "      <th>0</th>\n",
       "      <td>Traveler accommodations</td>\n",
       "      <td>1555</td>\n",
       "    </tr>\n",
       "    <tr>\n",
       "      <th>1</th>\n",
       "      <td>Vacation home rentals</td>\n",
       "      <td>12</td>\n",
       "    </tr>\n",
       "    <tr>\n",
       "      <th>2</th>\n",
       "      <td>Food services and drinking places</td>\n",
       "      <td>1835</td>\n",
       "    </tr>\n",
       "    <tr>\n",
       "      <th>3</th>\n",
       "      <td>Air transportation services</td>\n",
       "      <td>556</td>\n",
       "    </tr>\n",
       "    <tr>\n",
       "      <th>4</th>\n",
       "      <td>Rail transportation services</td>\n",
       "      <td>8</td>\n",
       "    </tr>\n",
       "  </tbody>\n",
       "</table>\n",
       "</div>"
      ],
      "text/plain": [
       "                            Industry  Direct tourism employment(in thousands)\n",
       "0            Traveler accommodations                                     1555\n",
       "1              Vacation home rentals                                       12\n",
       "2  Food services and drinking places                                     1835\n",
       "3        Air transportation services                                      556\n",
       "4       Rail transportation services                                        8"
      ]
     },
     "execution_count": 192,
     "metadata": {},
     "output_type": "execute_result"
    }
   ],
   "source": [
    "industry_employment_2018.head()"
   ]
  },
  {
   "cell_type": "code",
   "execution_count": 193,
   "id": "7b0b8922-9080-4660-8588-ce4f9b96a9e9",
   "metadata": {},
   "outputs": [
    {
     "data": {
      "text/plain": [
       "Industry\n",
       "Food services and drinking places                             2064\n",
       "Traveler accommodations                                       1441\n",
       "Air transportation services                                    619\n",
       "Retail trade services, excluding gasoline service stations     415\n",
       "Travel arrangement and reservation services                    327\n",
       "Name: Direct tourism employment(in thousands), dtype: int64"
      ]
     },
     "execution_count": 193,
     "metadata": {},
     "output_type": "execute_result"
    }
   ],
   "source": [
    "direct_employment_industry = employment_merged_df[employment_merged_df['Year'] == 2023]\n",
    "direct_employment_industry  = direct_employment_industry .groupby('Industry')['Direct tourism employment(in thousands)'].sum().sort_values(ascending=False)\n",
    "direct_employment_industry.head()"
   ]
  },
  {
   "cell_type": "code",
   "execution_count": 194,
   "id": "18028ac3-7699-47d2-8411-d2860f21dd47",
   "metadata": {},
   "outputs": [
    {
     "data": {
      "text/plain": [
       "Industry\n",
       "Air transportation services                                                        953\n",
       "Traveler accommodations                                                            608\n",
       "Food services and drinking places                                                  375\n",
       "Travel arrangement and reservation services                                        305\n",
       "Industries producing nondurable PCE commodities, excluding petroleum refineries    249\n",
       "Name: Indirect tourism employment(in thousands), dtype: int64"
      ]
     },
     "execution_count": 194,
     "metadata": {},
     "output_type": "execute_result"
    }
   ],
   "source": [
    "indirect_employment_industry = employment_merged_df[employment_merged_df['Year'] == 2023]\n",
    "indirect_employment_industry  = indirect_employment_industry .groupby('Industry')['Indirect tourism employment(in thousands)'].sum().sort_values(ascending=False)\n",
    "indirect_employment_industry.head()"
   ]
  },
  {
   "cell_type": "markdown",
   "id": "620955f3-5a1a-4aaf-85c6-6cf6b3878fd4",
   "metadata": {},
   "source": [
    "Total employment by industry(Top 5)"
   ]
  },
  {
   "cell_type": "code",
   "execution_count": 195,
   "id": "42a04220-39b6-4bcf-8968-c52807cc9360",
   "metadata": {},
   "outputs": [
    {
     "data": {
      "text/plain": [
       "Industry\n",
       "Food services and drinking places              11921\n",
       "Traveler accommodations                        11570\n",
       "Air transportation services                     8174\n",
       "Travel arrangement and reservation services     3726\n",
       "Participant sports                              2635\n",
       "Name: Total tourism-related employment(in thousands), dtype: int64"
      ]
     },
     "execution_count": 195,
     "metadata": {},
     "output_type": "execute_result"
    }
   ],
   "source": [
    "total_employment_industry = employment_merged_df.groupby('Industry')['Total tourism-related employment(in thousands)'].sum()\n",
    "total_employment_industry = total_employment_industry.sort_values(ascending=False)\n",
    "total_employment_industry.head()"
   ]
  },
  {
   "cell_type": "markdown",
   "id": "e4e0adf4-4662-447b-9f94-8e9d7840e71a",
   "metadata": {},
   "source": [
    "Direct employment by industry(Top 5)"
   ]
  },
  {
   "cell_type": "code",
   "execution_count": 196,
   "id": "97f833cf-dd69-45e9-92bf-a412ba706481",
   "metadata": {},
   "outputs": [
    {
     "data": {
      "text/plain": [
       "Industry\n",
       "Food services and drinking places                             10087\n",
       "Traveler accommodations                                        8138\n",
       "Air transportation services                                    3217\n",
       "Retail trade services, excluding gasoline service stations     1936\n",
       "Travel arrangement and reservation services                    1928\n",
       "Name: Direct tourism employment(in thousands), dtype: int64"
      ]
     },
     "execution_count": 196,
     "metadata": {},
     "output_type": "execute_result"
    }
   ],
   "source": [
    "Direct_employment_industry = employment_merged_df.groupby('Industry')['Direct tourism employment(in thousands)'].sum()\n",
    "Direct_employment_industry = Direct_employment_industry.sort_values(ascending=False)\n",
    "Direct_employment_industry.head()"
   ]
  },
  {
   "cell_type": "markdown",
   "id": "98d6431b-645b-4ac1-9c4e-c82a4bae9993",
   "metadata": {},
   "source": [
    "Indirect employment by industry(Top 5)"
   ]
  },
  {
   "cell_type": "code",
   "execution_count": 197,
   "id": "2addd3fd-3e6f-4325-b34a-32e19590dbf9",
   "metadata": {},
   "outputs": [
    {
     "data": {
      "text/plain": [
       "Industry\n",
       "Air transportation services                    4957\n",
       "Traveler accommodations                        3432\n",
       "Food services and drinking places              1834\n",
       "Travel arrangement and reservation services    1798\n",
       "Participant sports                             1257\n",
       "Name: Indirect tourism employment(in thousands), dtype: int64"
      ]
     },
     "execution_count": 197,
     "metadata": {},
     "output_type": "execute_result"
    }
   ],
   "source": [
    "indirect_employment_industry = employment_merged_df.groupby('Industry')['Indirect tourism employment(in thousands)'].sum()\n",
    "indirect_employment_industry = indirect_employment_industry.sort_values(ascending=False)\n",
    "indirect_employment_industry.head()"
   ]
  },
  {
   "cell_type": "code",
   "execution_count": null,
   "id": "b8567259-4f63-4c6c-9369-62edd15ce3a3",
   "metadata": {},
   "outputs": [],
   "source": []
  },
  {
   "cell_type": "code",
   "execution_count": null,
   "id": "067c81ed-4cda-4b9a-9d4f-29585465f676",
   "metadata": {},
   "outputs": [],
   "source": []
  },
  {
   "cell_type": "code",
   "execution_count": null,
   "id": "647e3a8d-eac5-4860-8499-69ae4cf71998",
   "metadata": {},
   "outputs": [],
   "source": []
  }
 ],
 "metadata": {
  "kernelspec": {
   "display_name": "Python [conda env:base] *",
   "language": "python",
   "name": "conda-base-py"
  },
  "language_info": {
   "codemirror_mode": {
    "name": "ipython",
    "version": 3
   },
   "file_extension": ".py",
   "mimetype": "text/x-python",
   "name": "python",
   "nbconvert_exporter": "python",
   "pygments_lexer": "ipython3",
   "version": "3.12.7"
  }
 },
 "nbformat": 4,
 "nbformat_minor": 5
}
