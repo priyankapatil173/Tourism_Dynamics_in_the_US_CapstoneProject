{
 "cells": [
  {
   "cell_type": "code",
   "execution_count": 1,
   "id": "64fe107e-f6c7-4dd5-889d-17b602b446b2",
   "metadata": {},
   "outputs": [],
   "source": [
    "import pandas as pd"
   ]
  },
  {
   "cell_type": "code",
   "execution_count": 2,
   "id": "613acc3f-a4d8-4304-adc2-3610cd4e6560",
   "metadata": {},
   "outputs": [],
   "source": [
    "files = ['../Data/Commodities by visitors/CommodityByVisitors2018.csv', \n",
    "         '../Data/Commodities by visitors/CommodityByVisitors2019.csv', \n",
    "         '../Data/Commodities by visitors/CommodityByVisitors2020.csv', \n",
    "         '../Data/Commodities by visitors/CommodityByVisitors2021.csv', \n",
    "         '../Data/Commodities by visitors/CommodityByVisitors2022.csv', \n",
    "         '../Data/Commodities by visitors/CommodityByVisitors2023.csv']"
   ]
  },
  {
   "cell_type": "code",
   "execution_count": 3,
   "id": "12e52122-9fe9-4fa9-90fc-515acd352e5d",
   "metadata": {},
   "outputs": [],
   "source": [
    "dfs = []\n",
    "for file in files:\n",
    "    df = pd.read_csv(file)\n",
    "    year = int(file.split('CommodityByVisitors')[1].split('.csv')[0])\n",
    "    df['Year']= year\n",
    "    dfs.append(df)"
   ]
  },
  {
   "cell_type": "code",
   "execution_count": 4,
   "id": "f21107c7-bfbc-4070-ae0c-c0598363101c",
   "metadata": {},
   "outputs": [],
   "source": [
    "visitor_type_merged_df = pd.concat(dfs, ignore_index=True)"
   ]
  },
  {
   "cell_type": "code",
   "execution_count": 5,
   "id": "eadf7adb-6e11-47f2-a840-f991b05c61f9",
   "metadata": {},
   "outputs": [],
   "source": [
    "visitor_type_merged_df.to_csv('../CommodityByVisitors.csv', index=False)"
   ]
  },
  {
   "cell_type": "code",
   "execution_count": 6,
   "id": "bf66bf30-a572-43a4-a553-d715b1b9874c",
   "metadata": {},
   "outputs": [
    {
     "data": {
      "text/html": [
       "<div>\n",
       "<style scoped>\n",
       "    .dataframe tbody tr th:only-of-type {\n",
       "        vertical-align: middle;\n",
       "    }\n",
       "\n",
       "    .dataframe tbody tr th {\n",
       "        vertical-align: top;\n",
       "    }\n",
       "\n",
       "    .dataframe thead th {\n",
       "        text-align: right;\n",
       "    }\n",
       "</style>\n",
       "<table border=\"1\" class=\"dataframe\">\n",
       "  <thead>\n",
       "    <tr style=\"text-align: right;\">\n",
       "      <th></th>\n",
       "      <th>Commodity</th>\n",
       "      <th>Total consumption</th>\n",
       "      <th>Resident households</th>\n",
       "      <th>Business</th>\n",
       "      <th>Government</th>\n",
       "      <th>Nonresidents</th>\n",
       "      <th>Total tourism demand</th>\n",
       "      <th>Nontourism demand</th>\n",
       "      <th>Tourism commodity ratio</th>\n",
       "      <th>Year</th>\n",
       "    </tr>\n",
       "  </thead>\n",
       "  <tbody>\n",
       "    <tr>\n",
       "      <th>0</th>\n",
       "      <td>Traveler accommodations</td>\n",
       "      <td>228,327</td>\n",
       "      <td>109,070</td>\n",
       "      <td>71,631</td>\n",
       "      <td>6,568</td>\n",
       "      <td>41,058</td>\n",
       "      <td>228,327</td>\n",
       "      <td>0</td>\n",
       "      <td>1.00</td>\n",
       "      <td>2018</td>\n",
       "    </tr>\n",
       "    <tr>\n",
       "      <th>1</th>\n",
       "      <td>Food and beverage services</td>\n",
       "      <td>998,014</td>\n",
       "      <td>84,117</td>\n",
       "      <td>40,934</td>\n",
       "      <td>4,766</td>\n",
       "      <td>24,252</td>\n",
       "      <td>154,069</td>\n",
       "      <td>843,944</td>\n",
       "      <td>0.15</td>\n",
       "      <td>2018</td>\n",
       "    </tr>\n",
       "    <tr>\n",
       "      <th>2</th>\n",
       "      <td>Domestic passenger air transportation services</td>\n",
       "      <td>167,622</td>\n",
       "      <td>103,239</td>\n",
       "      <td>48,734</td>\n",
       "      <td>15,620</td>\n",
       "      <td>29</td>\n",
       "      <td>167,622</td>\n",
       "      <td>0</td>\n",
       "      <td>1.00</td>\n",
       "      <td>2018</td>\n",
       "    </tr>\n",
       "    <tr>\n",
       "      <th>3</th>\n",
       "      <td>International passenger air transportation ser...</td>\n",
       "      <td>102,623</td>\n",
       "      <td>35,571</td>\n",
       "      <td>24,965</td>\n",
       "      <td>1,625</td>\n",
       "      <td>40,462</td>\n",
       "      <td>102,623</td>\n",
       "      <td>0</td>\n",
       "      <td>1.00</td>\n",
       "      <td>2018</td>\n",
       "    </tr>\n",
       "    <tr>\n",
       "      <th>4</th>\n",
       "      <td>Passenger rail transportation services</td>\n",
       "      <td>2,403</td>\n",
       "      <td>1,193</td>\n",
       "      <td>966</td>\n",
       "      <td>244</td>\n",
       "      <td>0</td>\n",
       "      <td>2,403</td>\n",
       "      <td>0</td>\n",
       "      <td>1.00</td>\n",
       "      <td>2018</td>\n",
       "    </tr>\n",
       "  </tbody>\n",
       "</table>\n",
       "</div>"
      ],
      "text/plain": [
       "                                           Commodity Total consumption  \\\n",
       "0                            Traveler accommodations           228,327   \n",
       "1                         Food and beverage services           998,014   \n",
       "2     Domestic passenger air transportation services           167,622   \n",
       "3  International passenger air transportation ser...           102,623   \n",
       "4             Passenger rail transportation services             2,403   \n",
       "\n",
       "  Resident households Business Government Nonresidents Total tourism demand  \\\n",
       "0             109,070   71,631      6,568       41,058              228,327   \n",
       "1              84,117   40,934      4,766       24,252              154,069   \n",
       "2             103,239   48,734     15,620           29              167,622   \n",
       "3              35,571   24,965      1,625       40,462              102,623   \n",
       "4               1,193      966        244            0                2,403   \n",
       "\n",
       "  Nontourism demand  Tourism commodity ratio  Year  \n",
       "0                 0                     1.00  2018  \n",
       "1           843,944                     0.15  2018  \n",
       "2                 0                     1.00  2018  \n",
       "3                 0                     1.00  2018  \n",
       "4                 0                     1.00  2018  "
      ]
     },
     "execution_count": 6,
     "metadata": {},
     "output_type": "execute_result"
    }
   ],
   "source": [
    "visitor_type_merged_df.head()"
   ]
  },
  {
   "cell_type": "code",
   "execution_count": 7,
   "id": "85c1bb30-ad3b-4a91-ba7b-0853ebeb08cf",
   "metadata": {},
   "outputs": [],
   "source": [
    "visitor_type_merged_df.to_csv('commodities_by_visitor_types.csv')"
   ]
  },
  {
   "cell_type": "code",
   "execution_count": 8,
   "id": "e58a3fc9-2b76-4629-8cdf-72f08b017eb4",
   "metadata": {},
   "outputs": [
    {
     "data": {
      "text/html": [
       "<div>\n",
       "<style scoped>\n",
       "    .dataframe tbody tr th:only-of-type {\n",
       "        vertical-align: middle;\n",
       "    }\n",
       "\n",
       "    .dataframe tbody tr th {\n",
       "        vertical-align: top;\n",
       "    }\n",
       "\n",
       "    .dataframe thead th {\n",
       "        text-align: right;\n",
       "    }\n",
       "</style>\n",
       "<table border=\"1\" class=\"dataframe\">\n",
       "  <thead>\n",
       "    <tr style=\"text-align: right;\">\n",
       "      <th></th>\n",
       "      <th>Commodity</th>\n",
       "      <th>Total consumption</th>\n",
       "      <th>Total tourism demand</th>\n",
       "      <th>Nontourism demand</th>\n",
       "      <th>Tourism commodity ratio</th>\n",
       "      <th>Year</th>\n",
       "      <th>Visitor Type</th>\n",
       "      <th>Demand</th>\n",
       "    </tr>\n",
       "  </thead>\n",
       "  <tbody>\n",
       "    <tr>\n",
       "      <th>0</th>\n",
       "      <td>Traveler accommodations</td>\n",
       "      <td>228,327</td>\n",
       "      <td>228,327</td>\n",
       "      <td>0</td>\n",
       "      <td>1.00</td>\n",
       "      <td>2018</td>\n",
       "      <td>Resident households</td>\n",
       "      <td>109,070</td>\n",
       "    </tr>\n",
       "    <tr>\n",
       "      <th>1</th>\n",
       "      <td>Food and beverage services</td>\n",
       "      <td>998,014</td>\n",
       "      <td>154,069</td>\n",
       "      <td>843,944</td>\n",
       "      <td>0.15</td>\n",
       "      <td>2018</td>\n",
       "      <td>Resident households</td>\n",
       "      <td>84,117</td>\n",
       "    </tr>\n",
       "    <tr>\n",
       "      <th>2</th>\n",
       "      <td>Domestic passenger air transportation services</td>\n",
       "      <td>167,622</td>\n",
       "      <td>167,622</td>\n",
       "      <td>0</td>\n",
       "      <td>1.00</td>\n",
       "      <td>2018</td>\n",
       "      <td>Resident households</td>\n",
       "      <td>103,239</td>\n",
       "    </tr>\n",
       "    <tr>\n",
       "      <th>3</th>\n",
       "      <td>International passenger air transportation ser...</td>\n",
       "      <td>102,623</td>\n",
       "      <td>102,623</td>\n",
       "      <td>0</td>\n",
       "      <td>1.00</td>\n",
       "      <td>2018</td>\n",
       "      <td>Resident households</td>\n",
       "      <td>35,571</td>\n",
       "    </tr>\n",
       "    <tr>\n",
       "      <th>4</th>\n",
       "      <td>Passenger rail transportation services</td>\n",
       "      <td>2,403</td>\n",
       "      <td>2,403</td>\n",
       "      <td>0</td>\n",
       "      <td>1.00</td>\n",
       "      <td>2018</td>\n",
       "      <td>Resident households</td>\n",
       "      <td>1,193</td>\n",
       "    </tr>\n",
       "  </tbody>\n",
       "</table>\n",
       "</div>"
      ],
      "text/plain": [
       "                                           Commodity Total consumption  \\\n",
       "0                            Traveler accommodations           228,327   \n",
       "1                         Food and beverage services           998,014   \n",
       "2     Domestic passenger air transportation services           167,622   \n",
       "3  International passenger air transportation ser...           102,623   \n",
       "4             Passenger rail transportation services             2,403   \n",
       "\n",
       "  Total tourism demand Nontourism demand  Tourism commodity ratio  Year  \\\n",
       "0              228,327                 0                     1.00  2018   \n",
       "1              154,069           843,944                     0.15  2018   \n",
       "2              167,622                 0                     1.00  2018   \n",
       "3              102,623                 0                     1.00  2018   \n",
       "4                2,403                 0                     1.00  2018   \n",
       "\n",
       "          Visitor Type   Demand  \n",
       "0  Resident households  109,070  \n",
       "1  Resident households   84,117  \n",
       "2  Resident households  103,239  \n",
       "3  Resident households   35,571  \n",
       "4  Resident households    1,193  "
      ]
     },
     "execution_count": 8,
     "metadata": {},
     "output_type": "execute_result"
    }
   ],
   "source": [
    "melted_df = pd.melt(visitor_type_merged_df,\n",
    "                    id_vars=['Commodity', 'Total consumption', 'Total tourism demand',\n",
    "                             'Nontourism demand', 'Tourism commodity ratio', 'Year'],\n",
    "                    value_vars=['Resident households', 'Business', 'Government', 'Nonresidents'],\n",
    "                    var_name='Visitor Type',\n",
    "                    value_name='Demand')\n",
    "\n",
    "melted_df.head()"
   ]
  },
  {
   "cell_type": "markdown",
   "id": "e7f9855b-e164-4955-b185-c95ce85b96aa",
   "metadata": {},
   "source": [
    "melted_df.to_csv('commodities_by_visitor_melted.csv')"
   ]
  },
  {
   "cell_type": "markdown",
   "id": "7820e0d7-29f9-4d61-ae97-75c91f936fe3",
   "metadata": {},
   "source": [
    "Clean columns"
   ]
  },
  {
   "cell_type": "code",
   "execution_count": 9,
   "id": "19fc13c5-7973-4b5e-8c4d-1995d377c60f",
   "metadata": {},
   "outputs": [],
   "source": [
    "clean = [\n",
    "    'Total consumption', 'Resident households', 'Business', 'Government',\n",
    "    'Nonresidents', 'Total tourism demand', 'Nontourism demand']\n",
    "\n",
    "for col in clean:\n",
    "    visitor_type_merged_df[col] = visitor_type_merged_df[col].replace(',', '', regex=True).astype(float)"
   ]
  },
  {
   "cell_type": "markdown",
   "id": "32e5588e-e902-475f-bf28-ddadf0c670ab",
   "metadata": {},
   "source": [
    "Combine Business and Government column together"
   ]
  },
  {
   "cell_type": "code",
   "execution_count": 10,
   "id": "caff9e7b-c993-4a7d-a362-74828061b317",
   "metadata": {},
   "outputs": [],
   "source": [
    "visitor_type_merged_df['Business and Government'] = visitor_type_merged_df['Business'] + visitor_type_merged_df['Government']"
   ]
  },
  {
   "cell_type": "markdown",
   "id": "99e9cc7b-d8ef-4438-8e47-6a3bc6fda2da",
   "metadata": {},
   "source": [
    "Combine residents and non residents column together"
   ]
  },
  {
   "cell_type": "code",
   "execution_count": 11,
   "id": "9f113f34-c089-4aad-96a9-9c3546dca692",
   "metadata": {},
   "outputs": [],
   "source": [
    "visitor_type_merged_df['Resident and Nonresident'] = visitor_type_merged_df['Resident households'] + visitor_type_merged_df['Nonresidents']"
   ]
  },
  {
   "cell_type": "code",
   "execution_count": null,
   "id": "d6867f88-cdba-4d7b-b50c-4d4bb028965c",
   "metadata": {},
   "outputs": [],
   "source": []
  },
  {
   "cell_type": "code",
   "execution_count": 12,
   "id": "0bdf655e-c76f-4359-b8b2-f21064bf40a1",
   "metadata": {},
   "outputs": [
    {
     "data": {
      "text/html": [
       "<div>\n",
       "<style scoped>\n",
       "    .dataframe tbody tr th:only-of-type {\n",
       "        vertical-align: middle;\n",
       "    }\n",
       "\n",
       "    .dataframe tbody tr th {\n",
       "        vertical-align: top;\n",
       "    }\n",
       "\n",
       "    .dataframe thead th {\n",
       "        text-align: right;\n",
       "    }\n",
       "</style>\n",
       "<table border=\"1\" class=\"dataframe\">\n",
       "  <thead>\n",
       "    <tr style=\"text-align: right;\">\n",
       "      <th></th>\n",
       "      <th>Year</th>\n",
       "      <th>Total consumption</th>\n",
       "      <th>Business and Government</th>\n",
       "      <th>Resident and Nonresident</th>\n",
       "      <th>Total tourism demand</th>\n",
       "      <th>Nontourism demand</th>\n",
       "    </tr>\n",
       "  </thead>\n",
       "  <tbody>\n",
       "    <tr>\n",
       "      <th>0</th>\n",
       "      <td>2018</td>\n",
       "      <td>39248374.0</td>\n",
       "      <td>360850.0</td>\n",
       "      <td>998794.0</td>\n",
       "      <td>1359646.0</td>\n",
       "      <td>37888726.0</td>\n",
       "    </tr>\n",
       "    <tr>\n",
       "      <th>1</th>\n",
       "      <td>2019</td>\n",
       "      <td>40361847.0</td>\n",
       "      <td>385502.0</td>\n",
       "      <td>1036385.0</td>\n",
       "      <td>1421886.0</td>\n",
       "      <td>38939963.0</td>\n",
       "    </tr>\n",
       "    <tr>\n",
       "      <th>2</th>\n",
       "      <td>2020</td>\n",
       "      <td>39221150.0</td>\n",
       "      <td>192827.0</td>\n",
       "      <td>470376.0</td>\n",
       "      <td>663200.0</td>\n",
       "      <td>38557950.0</td>\n",
       "    </tr>\n",
       "    <tr>\n",
       "      <th>3</th>\n",
       "      <td>2021</td>\n",
       "      <td>44846646.0</td>\n",
       "      <td>348659.0</td>\n",
       "      <td>768569.0</td>\n",
       "      <td>1117227.0</td>\n",
       "      <td>43729417.0</td>\n",
       "    </tr>\n",
       "    <tr>\n",
       "      <th>4</th>\n",
       "      <td>2022</td>\n",
       "      <td>50063247.0</td>\n",
       "      <td>427031.0</td>\n",
       "      <td>1151463.0</td>\n",
       "      <td>1578492.0</td>\n",
       "      <td>48484754.0</td>\n",
       "    </tr>\n",
       "    <tr>\n",
       "      <th>5</th>\n",
       "      <td>2023</td>\n",
       "      <td>51782020.0</td>\n",
       "      <td>454078.0</td>\n",
       "      <td>1312895.0</td>\n",
       "      <td>1766977.0</td>\n",
       "      <td>50015043.0</td>\n",
       "    </tr>\n",
       "  </tbody>\n",
       "</table>\n",
       "</div>"
      ],
      "text/plain": [
       "   Year  Total consumption  Business and Government  Resident and Nonresident  \\\n",
       "0  2018         39248374.0                 360850.0                  998794.0   \n",
       "1  2019         40361847.0                 385502.0                 1036385.0   \n",
       "2  2020         39221150.0                 192827.0                  470376.0   \n",
       "3  2021         44846646.0                 348659.0                  768569.0   \n",
       "4  2022         50063247.0                 427031.0                 1151463.0   \n",
       "5  2023         51782020.0                 454078.0                 1312895.0   \n",
       "\n",
       "   Total tourism demand  Nontourism demand  \n",
       "0             1359646.0         37888726.0  \n",
       "1             1421886.0         38939963.0  \n",
       "2              663200.0         38557950.0  \n",
       "3             1117227.0         43729417.0  \n",
       "4             1578492.0         48484754.0  \n",
       "5             1766977.0         50015043.0  "
      ]
     },
     "execution_count": 12,
     "metadata": {},
     "output_type": "execute_result"
    }
   ],
   "source": [
    "visitor_type_merged_df_filtered = visitor_type_merged_df[visitor_type_merged_df['Year'].between(2018, 2023)]\n",
    "\n",
    "yearly_sums = visitor_type_merged_df_filtered.groupby('Year')[\n",
    "    ['Total consumption','Business and Government', 'Resident and Nonresident', 'Total tourism demand', 'Nontourism demand']].sum().reset_index()\n",
    "\n",
    "yearly_sums"
   ]
  },
  {
   "cell_type": "markdown",
   "id": "9076fc0d-0ab1-4719-87be-366a778d516b",
   "metadata": {},
   "source": [
    "Top 5 by total tourism demand"
   ]
  },
  {
   "cell_type": "code",
   "execution_count": 13,
   "id": "f9e37f91-2327-46d7-bb1d-b55338168c57",
   "metadata": {},
   "outputs": [
    {
     "data": {
      "text/html": [
       "<div>\n",
       "<style scoped>\n",
       "    .dataframe tbody tr th:only-of-type {\n",
       "        vertical-align: middle;\n",
       "    }\n",
       "\n",
       "    .dataframe tbody tr th {\n",
       "        vertical-align: top;\n",
       "    }\n",
       "\n",
       "    .dataframe thead th {\n",
       "        text-align: right;\n",
       "    }\n",
       "</style>\n",
       "<table border=\"1\" class=\"dataframe\">\n",
       "  <thead>\n",
       "    <tr style=\"text-align: right;\">\n",
       "      <th></th>\n",
       "      <th>Commodity</th>\n",
       "      <th>Total tourism demand</th>\n",
       "    </tr>\n",
       "  </thead>\n",
       "  <tbody>\n",
       "    <tr>\n",
       "      <th>130</th>\n",
       "      <td>Traveler accommodations</td>\n",
       "      <td>283099.0</td>\n",
       "    </tr>\n",
       "    <tr>\n",
       "      <th>153</th>\n",
       "      <td>Shopping</td>\n",
       "      <td>271004.0</td>\n",
       "    </tr>\n",
       "    <tr>\n",
       "      <th>104</th>\n",
       "      <td>Traveler accommodations</td>\n",
       "      <td>254083.0</td>\n",
       "    </tr>\n",
       "    <tr>\n",
       "      <th>131</th>\n",
       "      <td>Food and beverage services</td>\n",
       "      <td>249998.0</td>\n",
       "    </tr>\n",
       "    <tr>\n",
       "      <th>127</th>\n",
       "      <td>Shopping</td>\n",
       "      <td>238368.0</td>\n",
       "    </tr>\n",
       "  </tbody>\n",
       "</table>\n",
       "</div>"
      ],
      "text/plain": [
       "                      Commodity  Total tourism demand\n",
       "130     Traveler accommodations              283099.0\n",
       "153                    Shopping              271004.0\n",
       "104     Traveler accommodations              254083.0\n",
       "131  Food and beverage services              249998.0\n",
       "127                    Shopping              238368.0"
      ]
     },
     "execution_count": 13,
     "metadata": {},
     "output_type": "execute_result"
    }
   ],
   "source": [
    "top5_commodities = visitor_type_merged_df.sort_values('Total tourism demand', ascending=False).head(5)\n",
    "top5_commodities[['Commodity', 'Total tourism demand']]"
   ]
  },
  {
   "cell_type": "markdown",
   "id": "2ed4dd2f-432f-4243-855c-66ab53e610a1",
   "metadata": {},
   "source": [
    "Consumption by Business and Government category"
   ]
  },
  {
   "cell_type": "code",
   "execution_count": 14,
   "id": "3323e44e-ec0e-48a4-aa37-76c585bd487e",
   "metadata": {},
   "outputs": [
    {
     "data": {
      "text/plain": [
       "Year\n",
       "2018    360850.0\n",
       "2019    385502.0\n",
       "2020    192827.0\n",
       "2021    348659.0\n",
       "2022    427031.0\n",
       "2023    454078.0\n",
       "Name: Business and Government, dtype: float64"
      ]
     },
     "execution_count": 14,
     "metadata": {},
     "output_type": "execute_result"
    }
   ],
   "source": [
    "consumption_BAG = visitor_type_merged_df.groupby('Year')['Business and Government'].sum()\n",
    "consumption_BAG"
   ]
  },
  {
   "cell_type": "markdown",
   "id": "c7438da1-521d-45d2-a75a-c50c70aa1e42",
   "metadata": {},
   "source": [
    "Consumption by Resident and Nonresident category"
   ]
  },
  {
   "cell_type": "code",
   "execution_count": 15,
   "id": "c8672bec-5eef-474a-b9b4-f0bc539a81a1",
   "metadata": {},
   "outputs": [
    {
     "data": {
      "text/plain": [
       "Year\n",
       "2018     998794.0\n",
       "2019    1036385.0\n",
       "2020     470376.0\n",
       "2021     768569.0\n",
       "2022    1151463.0\n",
       "2023    1312895.0\n",
       "Name: Resident and Nonresident, dtype: float64"
      ]
     },
     "execution_count": 15,
     "metadata": {},
     "output_type": "execute_result"
    }
   ],
   "source": [
    "consumption_RAN = visitor_type_merged_df.groupby('Year')['Resident and Nonresident'].sum()\n",
    "consumption_RAN"
   ]
  },
  {
   "cell_type": "markdown",
   "id": "7a4a4799-9c69-45c7-9ee6-a469e206b9e0",
   "metadata": {},
   "source": [
    "Top 5 by Business and Government category"
   ]
  },
  {
   "cell_type": "code",
   "execution_count": 16,
   "id": "4633104a-5b3d-46ba-a87e-6c1d83c8b8af",
   "metadata": {},
   "outputs": [
    {
     "data": {
      "text/plain": [
       "Commodity\n",
       "Traveler accommodations                           478763.0\n",
       "Food and beverage services                        293714.0\n",
       "Domestic passenger air transportation services    282388.0\n",
       "Travel arrangement and reservation services       195447.0\n",
       "Shopping                                          190916.0\n",
       "Name: Business and Government, dtype: float64"
      ]
     },
     "execution_count": 16,
     "metadata": {},
     "output_type": "execute_result"
    }
   ],
   "source": [
    "consumption_by_commodity = visitor_type_merged_df.groupby('Commodity')['Business and Government'].sum()\n",
    "top5_consumption = consumption_by_commodity.sort_values(ascending=False).head()\n",
    "top5_consumption"
   ]
  },
  {
   "cell_type": "markdown",
   "id": "f9eb1370-42c6-48de-877c-fe6767eb9c49",
   "metadata": {},
   "source": [
    "Top 5 by Resident and Nonresident category"
   ]
  },
  {
   "cell_type": "code",
   "execution_count": 17,
   "id": "b98e3e3a-8b39-4aa5-8e73-99b6b2e34b96",
   "metadata": {},
   "outputs": [
    {
     "data": {
      "text/plain": [
       "Commodity\n",
       "Shopping                                          889921.0\n",
       "Traveler accommodations                           861584.0\n",
       "Food and beverage services                        729120.0\n",
       "Domestic passenger air transportation services    686299.0\n",
       "Gasoline                                          667329.0\n",
       "Name: Resident and Nonresident, dtype: float64"
      ]
     },
     "execution_count": 17,
     "metadata": {},
     "output_type": "execute_result"
    }
   ],
   "source": [
    "consumption_by_commodity = visitor_type_merged_df.groupby('Commodity')['Resident and Nonresident'].sum()\n",
    "top5_consumption = consumption_by_commodity.sort_values(ascending=False).head()\n",
    "top5_consumption"
   ]
  },
  {
   "cell_type": "code",
   "execution_count": 19,
   "id": "4dd1977c-c98c-48e5-904c-5ef0f534faa1",
   "metadata": {},
   "outputs": [],
   "source": [
    "visitor_type_merged_df.to_csv('visitorstypebycommodity.csv')"
   ]
  },
  {
   "cell_type": "code",
   "execution_count": null,
   "id": "df372919-f0d1-406a-a7f0-f0a478a142be",
   "metadata": {},
   "outputs": [],
   "source": []
  },
  {
   "cell_type": "code",
   "execution_count": null,
   "id": "3d8553fa-d8e6-455d-99f7-40c0e32a717c",
   "metadata": {},
   "outputs": [],
   "source": []
  }
 ],
 "metadata": {
  "kernelspec": {
   "display_name": "Python [conda env:base] *",
   "language": "python",
   "name": "conda-base-py"
  },
  "language_info": {
   "codemirror_mode": {
    "name": "ipython",
    "version": 3
   },
   "file_extension": ".py",
   "mimetype": "text/x-python",
   "name": "python",
   "nbconvert_exporter": "python",
   "pygments_lexer": "ipython3",
   "version": "3.12.7"
  }
 },
 "nbformat": 4,
 "nbformat_minor": 5
}
