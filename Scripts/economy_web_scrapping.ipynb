{
 "cells": [
  {
   "cell_type": "code",
   "execution_count": 2,
   "id": "13b00fe3-b299-4ebb-ae5f-d6f149aeff1e",
   "metadata": {},
   "outputs": [],
   "source": [
    "import requests\n",
    "import pandas as pd"
   ]
  },
  {
   "cell_type": "code",
   "execution_count": 3,
   "id": "5fdc1419-ae48-4494-9e3c-4f5162cc39e8",
   "metadata": {},
   "outputs": [],
   "source": [
    "URL = 'https://apps.bea.gov/scb/issues/2025/02-february/0225-travel-tourism-satellite-account.htm?_gl=1*1xfbl78*_ga*MjAxNTU2Mzg4NS4xNzQyMTM0MDcy'\n",
    "response = requests.get(URL)"
   ]
  },
  {
   "cell_type": "code",
   "execution_count": 4,
   "id": "f6223b2a-1407-4ead-8e81-047347138dfe",
   "metadata": {},
   "outputs": [
    {
     "data": {
      "text/plain": [
       "<Response [200]>"
      ]
     },
     "execution_count": 4,
     "metadata": {},
     "output_type": "execute_result"
    }
   ],
   "source": [
    "requests.get('https://apps.bea.gov/scb/issues/2025/02-february/0225-travel-tourism-satellite-account.htm?_gl=1*1xfbl78*_ga*MjAxNTU2Mzg4NS4xNzQyMTM0MDcy')"
   ]
  },
  {
   "cell_type": "code",
   "execution_count": 5,
   "id": "42548497-53a6-4d5a-ba93-ef8068127959",
   "metadata": {},
   "outputs": [],
   "source": [
    "from bs4 import BeautifulSoup as BS"
   ]
  },
  {
   "cell_type": "code",
   "execution_count": 6,
   "id": "4c717bcb-8f0a-4dbb-a435-29432c2578a4",
   "metadata": {},
   "outputs": [],
   "source": [
    "soup = BS(response.text)"
   ]
  },
  {
   "cell_type": "markdown",
   "id": "cda33aac-2ab1-4b35-91c9-7f8c3ec975f5",
   "metadata": {},
   "source": [
    "Table A. Travel and Tourism as a Share of GDP in 2018–2023"
   ]
  },
  {
   "cell_type": "code",
   "execution_count": 7,
   "id": "43db4db5-4ba5-413b-b672-86e770fea258",
   "metadata": {},
   "outputs": [
    {
     "name": "stderr",
     "output_type": "stream",
     "text": [
      "C:\\Users\\Sharv-Abhi-Priya\\AppData\\Local\\Temp\\ipykernel_24008\\3857931853.py:1: FutureWarning: Passing literal html to 'read_html' is deprecated and will be removed in a future version. To read from a literal string, wrap it in a 'StringIO' object.\n",
      "  GDP=pd.read_html(str(soup.find('table', attrs={'class' : 'scbtable'})))[0]\n"
     ]
    }
   ],
   "source": [
    "GDP=pd.read_html(str(soup.find('table', attrs={'class' : 'scbtable'})))[0]"
   ]
  },
  {
   "cell_type": "code",
   "execution_count": 8,
   "id": "4b9493aa-d6c3-46f1-b088-0a378c111b35",
   "metadata": {},
   "outputs": [],
   "source": [
    "GDP.to_csv('tableA.csv', index=False)"
   ]
  },
  {
   "cell_type": "markdown",
   "id": "5d6ec8f4-e8d6-49a5-92fd-a2bff2515ebf",
   "metadata": {},
   "source": [
    "job_listings.to_csv('job_listings.csv', index=False)"
   ]
  },
  {
   "cell_type": "markdown",
   "id": "31d26c19-71aa-4896-bee8-77aadc7740c2",
   "metadata": {},
   "source": [
    "Table B. Annual Growth, Contributions to Growth, and Levels of Real Output by Tourism Commodity in 2018–2023"
   ]
  },
  {
   "cell_type": "code",
   "execution_count": 9,
   "id": "b58f574c-27bb-40c3-b5ce-604e6e4220f4",
   "metadata": {},
   "outputs": [
    {
     "name": "stderr",
     "output_type": "stream",
     "text": [
      "C:\\Users\\Sharv-Abhi-Priya\\AppData\\Local\\Temp\\ipykernel_24008\\3006875916.py:1: FutureWarning: Passing literal html to 'read_html' is deprecated and will be removed in a future version. To read from a literal string, wrap it in a 'StringIO' object.\n",
      "  AnnualGrowth_B=pd.read_html(str(soup.find('table', attrs={'class' : 'scbtable','id':'CPSTable41767'})))[0]\n"
     ]
    }
   ],
   "source": [
    "AnnualGrowth_B=pd.read_html(str(soup.find('table', attrs={'class' : 'scbtable','id':'CPSTable41767'})))[0]"
   ]
  },
  {
   "cell_type": "code",
   "execution_count": 10,
   "id": "8a5fc161-fe20-4cd0-acc7-1a581db49ce5",
   "metadata": {},
   "outputs": [],
   "source": [
    "AnnualGrowth_B.to_csv('tableB.csv', index=False)"
   ]
  },
  {
   "cell_type": "markdown",
   "id": "9fc46b36-d906-46cf-bec5-d7952b029742",
   "metadata": {},
   "source": [
    "Table C. Annual Growth, Contributions to Growth, and Levels of Chain-Type Price Indexes for Tourism Commodities in 2018–2023"
   ]
  },
  {
   "cell_type": "code",
   "execution_count": 11,
   "id": "f863a444-e85b-4494-b964-fed6a9175302",
   "metadata": {},
   "outputs": [
    {
     "name": "stderr",
     "output_type": "stream",
     "text": [
      "C:\\Users\\Sharv-Abhi-Priya\\AppData\\Local\\Temp\\ipykernel_24008\\660262454.py:1: FutureWarning: Passing literal html to 'read_html' is deprecated and will be removed in a future version. To read from a literal string, wrap it in a 'StringIO' object.\n",
      "  AnnualGrowth_C=pd.read_html(str(soup.find('table', attrs={'class' : 'scbtable','id':'CPSTable41769'})))[0]\n"
     ]
    }
   ],
   "source": [
    "AnnualGrowth_C=pd.read_html(str(soup.find('table', attrs={'class' : 'scbtable','id':'CPSTable41769'})))[0]"
   ]
  },
  {
   "cell_type": "code",
   "execution_count": 12,
   "id": "aeacd9f4-573f-4f11-8ab5-b603cfeabc95",
   "metadata": {},
   "outputs": [],
   "source": [
    "AnnualGrowth_C.to_csv('tableC.csv', index=False)"
   ]
  },
  {
   "cell_type": "markdown",
   "id": "cd33e0e3-19c1-4a72-9456-3728e2e01bbd",
   "metadata": {},
   "source": [
    "Table D. Annual Growth, Contributions to Growth, and Levels of Direct Employment by Tourism Industry in 2018–2023"
   ]
  },
  {
   "cell_type": "code",
   "execution_count": 13,
   "id": "9c01e7af-b4db-40d7-bbb7-bd42a4a8d5af",
   "metadata": {},
   "outputs": [
    {
     "name": "stderr",
     "output_type": "stream",
     "text": [
      "C:\\Users\\Sharv-Abhi-Priya\\AppData\\Local\\Temp\\ipykernel_24008\\1494877264.py:1: FutureWarning: Passing literal html to 'read_html' is deprecated and will be removed in a future version. To read from a literal string, wrap it in a 'StringIO' object.\n",
      "  AnnualGrowth_D=pd.read_html(str(soup.find('table', attrs={'class' : 'scbtable','id':'CPSTable41771'})))[0]\n"
     ]
    }
   ],
   "source": [
    "AnnualGrowth_D=pd.read_html(str(soup.find('table', attrs={'class' : 'scbtable','id':'CPSTable41771'})))[0]"
   ]
  },
  {
   "cell_type": "code",
   "execution_count": 14,
   "id": "27cdbc3a-ff49-49fe-9fb6-2cbc6bbada1a",
   "metadata": {},
   "outputs": [],
   "source": [
    "AnnualGrowth_D.to_csv('tableD.csv', index=False)"
   ]
  },
  {
   "cell_type": "code",
   "execution_count": null,
   "id": "5084adf5-fd9d-472c-bae7-aa17516a38ca",
   "metadata": {},
   "outputs": [],
   "source": []
  },
  {
   "cell_type": "code",
   "execution_count": null,
   "id": "dfa5791f-f412-4591-9ecd-d7feb1e3e4fd",
   "metadata": {},
   "outputs": [],
   "source": []
  },
  {
   "cell_type": "code",
   "execution_count": null,
   "id": "c014a54e-f061-4b2e-a9ce-2ede41e09a30",
   "metadata": {},
   "outputs": [],
   "source": []
  }
 ],
 "metadata": {
  "kernelspec": {
   "display_name": "Python [conda env:base] *",
   "language": "python",
   "name": "conda-base-py"
  },
  "language_info": {
   "codemirror_mode": {
    "name": "ipython",
    "version": 3
   },
   "file_extension": ".py",
   "mimetype": "text/x-python",
   "name": "python",
   "nbconvert_exporter": "python",
   "pygments_lexer": "ipython3",
   "version": "3.12.7"
  }
 },
 "nbformat": 4,
 "nbformat_minor": 5
}
